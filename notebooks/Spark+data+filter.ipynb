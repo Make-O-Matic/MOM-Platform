{
 "cells": [
  {
   "cell_type": "code",
   "execution_count": 1,
   "metadata": {},
   "outputs": [
    {
     "name": "stdout",
     "output_type": "stream",
     "text": [
      "Lines with \"peter\": 1, lines with \"mimi\": 1\n"
     ]
    }
   ],
   "source": [
    "# https://marcobonzanini.com/2015/07/09/getting-started-with-apache-spark-and-python-3/\n",
    "\n",
    "from pyspark import SparkContext\n",
    " \n",
    "fname = \"gettingstarted.txt\"\n",
    "search1 = \"peter\"\n",
    "search2 = \"mimi\"\n",
    "\n",
    "sc = SparkContext(\"local\", appName=\"Line Count\")\n",
    "data = sc.textFile(fname)\n",
    "\n",
    "# Transformations\n",
    "filtered_data1 = data.filter(lambda s: search1 in s.lower())\n",
    "filtered_data2 = data.filter(lambda s: search2 in s.lower())\n",
    "# Actions\n",
    "num1 = filtered_data1.count()\n",
    "num2 = filtered_data2.count()\n",
    "\n",
    "print('Lines with \"%s\": %i, lines with \"%s\": %i' % (search1, num1, search2, num2))"
   ]
  },
  {
   "cell_type": "code",
   "execution_count": null,
   "metadata": {
    "collapsed": true
   },
   "outputs": [],
   "source": []
  }
 ],
 "metadata": {
  "kernelspec": {
   "display_name": "Python 3",
   "language": "python",
   "name": "python3"
  },
  "language_info": {
   "codemirror_mode": {
    "name": "ipython",
    "version": 3
   },
   "file_extension": ".py",
   "mimetype": "text/x-python",
   "name": "python",
   "nbconvert_exporter": "python",
   "pygments_lexer": "ipython3",
   "version": "3.6.1"
  }
 },
 "nbformat": 4,
 "nbformat_minor": 2
}
